{
 "cells": [
  {
   "cell_type": "code",
   "execution_count": 96,
   "metadata": {
    "collapsed": false
   },
   "outputs": [],
   "source": [
    "import caffe\n",
    "import numpy as np\n",
    "import matplotlib.pyplot as plt\n",
    "from sklearn import neighbors\n",
    "import scipy\n",
    "import scipy.io as sio\n",
    "import numpy\n",
    "\n",
    "## Initiate the net\n",
    "net = caffe.Net('/hdd2/Ananth/code/caffe-heatmap/models/heatmap-flic-fusion-sign-lang/train_val_new.prototxt', \n",
    "                '/hdd2/Ananth/code/caffe-heatmap/snapshots/heatmap-flic-fusion-sign-lang/_iter_1316000.caffemodel',\n",
    "                caffe.TEST)"
   ]
  },
  {
   "cell_type": "code",
   "execution_count": 167,
   "metadata": {
    "collapsed": false
   },
   "outputs": [],
   "source": [
    "#load the image in the data layer\n",
    "im = caffe.io.load_image('/hdd2/Ananth/code/caffe-heatmap/models/heatmap-flic-fusion-sign-lang/testImages/6.png')\n",
    "# load input and configure preprocessing\n",
    "transformer = caffe.io.Transformer({'data': net.blobs['data'].data.shape})\n",
    "transformer.set_transpose('data', (2,0,1))\n",
    "transformer.set_channel_swap('data', (2,1,0))\n",
    "\n",
    "net.blobs['data'].data[...] = transformer.preprocess('data', im)\n",
    "\n",
    "#compute\n",
    "out = net.forward(blobs=['fc1'])\n",
    "\n",
    "# print out.keys()\n",
    "# out['fc1'].size\n",
    "# np.savetxt('testImage2.out',out['fc1'])\n",
    "## 1273, 1891, 1752, 1199"
   ]
  },
  {
   "cell_type": "code",
   "execution_count": 168,
   "metadata": {
    "collapsed": false
   },
   "outputs": [],
   "source": [
    "n_neighbors = 15\n",
    "\n",
    "X = sio.loadmat('Xtrain.mat')\n",
    "x = X['Xtrain']\n",
    "dist = []\n",
    "for i in range(len(x)):\n",
    "    dist.append(scipy.spatial.distance.euclidean(x[i,:],out['fc1']))\n",
    "\n",
    "dist_index = numpy.argsort(dist)\n",
    "#dist.sort()\n",
    "\n",
    "with open('/hdd2/datasets/ASL/knnFile.txt','r') as f:\n",
    "    content = f.readlines()\n",
    "\n",
    "output = []\n",
    "for idx in dist_index[0:n_neighbors]:\n",
    "    output.append(content[idx])"
   ]
  },
  {
   "cell_type": "code",
   "execution_count": 173,
   "metadata": {
    "collapsed": false
   },
   "outputs": [
    {
     "name": "stdout",
     "output_type": "stream",
     "text": [
      "['Sometimes, this causes people to forget to read the Bible.']\n",
      "['And, we share His wisdom from an all powerful God.']\n",
      "['The Bible teaches that God is Love.']\n",
      "['Remember, the first step is to repent.']\n",
      "['Often, we will ask ourselves why a King.  We just want one God.']\n",
      "['Yes, being a Christian is not easy.']\n",
      "['All you have to do is accept that living God.']\n",
      "['Now, we will start with Genesis 3:22 to learn about Original Sins.']\n",
      "['First, you need God\\xc3\\xa2\\xc2\\x80\\xc2\\x99s Truth and Love through His Grace.']\n",
      "['Right now, we will start with Original Sins.']\n",
      "['Without Faith, none of us can get to know Him.']\n",
      "['If I give you some thoughts, suppose a missionary who serves God goes out there.']\n",
      "['And, His work in our lives to believe that He is the creator of all things.']\n",
      "['That King is God and that is why we are here today.']\n",
      "['First, I want us to look at Romans 3:23 that say that we all are sinners.']\n"
     ]
    }
   ],
   "source": [
    "for o in output:\n",
    "    temp = o.split(' ')\n",
    "    temp = temp[1].replace('\\n','')\n",
    "    with open(temp,'r') as f:\n",
    "        print(f.readlines())"
   ]
  },
  {
   "cell_type": "code",
   "execution_count": 177,
   "metadata": {
    "collapsed": false
   },
   "outputs": [
    {
     "name": "stdout",
     "output_type": "stream",
     "text": [
      "['Me singing along with SJ Tucker: \"...in for the ride...\"']\n",
      "[\"so that it would help me know for people who can't move well,\"]\n",
      "[\"such as elderly folks or people who are disabled who can't move well\"]\n",
      "['so that I know exactly where to bring-']\n",
      "['know which way to walk to places where the land is more level.']\n",
      "[\"So anyway. That's my vlog, see you later.\"]\n",
      "['and the power of death will not be able to defeat it.']\n",
      "['New Century Version (NCV),']\n",
      "['Now, lets think.  Is Peter himself the rock? Can you say yes or no?']\n",
      "['No, Peter is not the rock.']\n"
     ]
    }
   ],
   "source": [
    "for x in content[60:70]:\n",
    "    temp = x.split(' ')\n",
    "    temp = temp[1].replace('\\n','')\n",
    "    with open(temp,'r') as f:\n",
    "        print(f.readlines())"
   ]
  },
  {
   "cell_type": "code",
   "execution_count": 130,
   "metadata": {
    "collapsed": false
   },
   "outputs": [],
   "source": []
  },
  {
   "cell_type": "code",
   "execution_count": 178,
   "metadata": {
    "collapsed": false
   },
   "outputs": [
    {
     "name": "stdout",
     "output_type": "stream",
     "text": [
      "1199\n"
     ]
    }
   ],
   "source": [
    "for i in range(len(dist_index)):\n",
    "    if dist_index[i] == 67:\n",
    "        print i"
   ]
  },
  {
   "cell_type": "code",
   "execution_count": 148,
   "metadata": {
    "collapsed": false
   },
   "outputs": [
    {
     "data": {
      "text/plain": [
       "2553"
      ]
     },
     "execution_count": 148,
     "metadata": {},
     "output_type": "execute_result"
    }
   ],
   "source": [
    "len(dist_index)"
   ]
  },
  {
   "cell_type": "code",
   "execution_count": null,
   "metadata": {
    "collapsed": true
   },
   "outputs": [],
   "source": []
  }
 ],
 "metadata": {
  "kernelspec": {
   "display_name": "Python 2",
   "language": "python",
   "name": "python2"
  },
  "language_info": {
   "codemirror_mode": {
    "name": "ipython",
    "version": 2
   },
   "file_extension": ".py",
   "mimetype": "text/x-python",
   "name": "python",
   "nbconvert_exporter": "python",
   "pygments_lexer": "ipython2",
   "version": "2.7.6"
  }
 },
 "nbformat": 4,
 "nbformat_minor": 0
}
