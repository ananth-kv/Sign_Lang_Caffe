{
 "cells": [
  {
   "cell_type": "code",
   "execution_count": 84,
   "metadata": {
    "collapsed": false
   },
   "outputs": [],
   "source": [
    "import caffe\n",
    "import numpy as np\n",
    "import matplotlib.pyplot as plt\n",
    "from sklearn import neighbors\n",
    "import scipy\n",
    "import scipy.io as sio\n",
    "import numpy\n",
    "\n",
    "## Initiate the net\n",
    "net = caffe.Net('/hdd2/Ananth/code/caffe-heatmap/models/heatmap-flic-fusion-sign-lang/train_val_new.prototxt', \n",
    "                '/hdd2/Ananth/code/caffe-heatmap/snapshots/heatmap-flic-fusion-sign-lang/_iter_1316000.caffemodel',\n",
    "                caffe.TEST)"
   ]
  },
  {
   "cell_type": "code",
   "execution_count": 92,
   "metadata": {
    "collapsed": false
   },
   "outputs": [],
   "source": [
    "#load the image in the data layer\n",
    "im = caffe.io.load_image('/hdd2/Ananth/code/caffe-heatmap/models/heatmap-flic-fusion-sign-lang/testImages/im.png')\n",
    "# load input and configure preprocessing\n",
    "transformer = caffe.io.Transformer({'data': net.blobs['data'].data.shape})\n",
    "transformer.set_transpose('data', (2,0,1))\n",
    "transformer.set_channel_swap('data', (2,1,0))\n",
    "\n",
    "net.blobs['data'].data[...] = transformer.preprocess('data', im)\n",
    "\n",
    "#compute\n",
    "out = net.forward(blobs=['fc1'])\n",
    "\n",
    "# print out.keys()\n",
    "# out['fc1'].size\n",
    "# np.savetxt('testImage2.out',out['fc1'])"
   ]
  },
  {
   "cell_type": "code",
   "execution_count": 93,
   "metadata": {
    "collapsed": false
   },
   "outputs": [],
   "source": [
    "n_neighbors = 15\n",
    "\n",
    "X = sio.loadmat('Xtrain.mat')\n",
    "x = X['Xtrain']\n",
    "dist = []\n",
    "for i in range(len(x)):\n",
    "    dist.append(scipy.spatial.distance.euclidean(x[i,:],out['fc1']))\n",
    "\n",
    "dist_index = numpy.argsort(dist)\n",
    "#dist.sort()\n",
    "\n",
    "with open('/hdd2/datasets/ASL/knnFile.txt','r') as f:\n",
    "    content = f.readlines()\n",
    "\n",
    "output = []\n",
    "for idx in dist_index[0:n_neighbors]:\n",
    "    output.append(content[idx])"
   ]
  },
  {
   "cell_type": "code",
   "execution_count": 94,
   "metadata": {
    "collapsed": false
   },
   "outputs": [
    {
     "name": "stdout",
     "output_type": "stream",
     "text": [
      "['The Bible teaches that God is Love.']\n",
      "['The first thing you need to do is repent.']\n",
      "['Remember, the first step is to repent.']\n",
      "['Without Faith, none of us can get to know Him.']\n",
      "['First, you need God\\xc3\\xa2\\xc2\\x80\\xc2\\x99s Truth and Love through His Grace.']\n",
      "['That King is God and that is why we are here today.']\n",
      "['Sometimes, this causes people to forget to read the Bible.']\n",
      "['The Word is powerful.']\n",
      "['But, the church is responsible to find that righteousness of His.']\n",
      "['We ALL will struggle to fit in the worldly behaviors.']\n",
      "['How can I step out of things I\\xc3\\xa2\\xc2\\x80\\xc2\\x99m doing to trust Him.']\n",
      "['Some Christians, do not follow the Bible.']\n",
      "['And, we share His wisdom from an all powerful God.']\n",
      "['When God shows us the light, we are inspired to do good.']\n",
      "['The Holy Spirit is around us to help us have a relationship with God.']\n"
     ]
    }
   ],
   "source": [
    "for o in output:\n",
    "    temp = o.split(' ')\n",
    "    temp = temp[1].replace('\\n','')\n",
    "    with open(temp,'r') as f:\n",
    "        print(f.readlines())"
   ]
  },
  {
   "cell_type": "code",
   "execution_count": 91,
   "metadata": {
    "collapsed": false
   },
   "outputs": [
    {
     "data": {
      "text/plain": [
       "array([ 542,  177,  943, ..., 1853, 1300, 1646])"
      ]
     },
     "execution_count": 91,
     "metadata": {},
     "output_type": "execute_result"
    }
   ],
   "source": [
    "dist_index"
   ]
  },
  {
   "cell_type": "code",
   "execution_count": null,
   "metadata": {
    "collapsed": true
   },
   "outputs": [],
   "source": []
  }
 ],
 "metadata": {
  "kernelspec": {
   "display_name": "Python 2",
   "language": "python",
   "name": "python2"
  },
  "language_info": {
   "codemirror_mode": {
    "name": "ipython",
    "version": 2
   },
   "file_extension": ".py",
   "mimetype": "text/x-python",
   "name": "python",
   "nbconvert_exporter": "python",
   "pygments_lexer": "ipython2",
   "version": "2.7.6"
  }
 },
 "nbformat": 4,
 "nbformat_minor": 0
}
