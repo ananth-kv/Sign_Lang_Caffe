{
 "cells": [
  {
   "cell_type": "code",
   "execution_count": 30,
   "metadata": {
    "collapsed": true
   },
   "outputs": [],
   "source": [
    "import h5py\n",
    "import numpy as np"
   ]
  },
  {
   "cell_type": "code",
   "execution_count": 32,
   "metadata": {
    "collapsed": false
   },
   "outputs": [
    {
     "name": "stdout",
     "output_type": "stream",
     "text": [
      "('List of arrays in this file: ', [u'data', u'label'])\n",
      "('Shape of the array dataset_1: ', (2500, 3, 256, 256))\n",
      "('Shape of the array dataset_1: ', 491520000)\n"
     ]
    }
   ],
   "source": [
    "with h5py.File('/hdd2/Ananth/code/caffe-heatmap/models/heatmap-flic-fusion-sign-lang/caffe-utils/hdf5/HDF5data/train2.h5','r') as hf:\n",
    "    print('List of arrays in this file: ', hf.keys())\n",
    "    data = hf.get('data')\n",
    "    label = hf.get('label')\n",
    "    np_data = np.array(data)\n",
    "    np_labels = np.array(label)\n",
    "    print('Shape of the array dataset_1: ', np_data.shape)\n",
    "    print('Shape of the array dataset_1: ', np_data.size)"
   ]
  },
  {
   "cell_type": "code",
   "execution_count": 33,
   "metadata": {
    "collapsed": false
   },
   "outputs": [],
   "source": [
    "with open('/hdd2/Ananth/code/caffe-heatmap/models/heatmap-flic-fusion-sign-lang/trainImagesList.txt') as f:\n",
    "    content = f.readlines()"
   ]
  },
  {
   "cell_type": "code",
   "execution_count": 42,
   "metadata": {
    "collapsed": false
   },
   "outputs": [
    {
     "data": {
      "text/plain": [
       "'/hdd2/datasets/ASL/frames/4-19-14VEDA-BeltaniaSiteVisit-0yTvlOulFuc/19_2610_2820/36.png /hdd2/datasets/ASL/frames/4-19-14VEDA-BeltaniaSiteVisit-0yTvlOulFuc/19_2610_2820/vector.out\\n'"
      ]
     },
     "execution_count": 42,
     "metadata": {},
     "output_type": "execute_result"
    }
   ],
   "source": [
    "content[2703]"
   ]
  },
  {
   "cell_type": "code",
   "execution_count": 44,
   "metadata": {
    "collapsed": false
   },
   "outputs": [
    {
     "data": {
      "text/plain": [
       "'/hdd2/datasets/ASL/frames/4-19-14VEDA-BeltaniaSiteVisit-0yTvlOulFuc/19_3870_3930/21.png /hdd2/datasets/ASL/frames/4-19-14VEDA-BeltaniaSiteVisit-0yTvlOulFuc/19_3870_3930/vector.out\\n'"
      ]
     },
     "execution_count": 44,
     "metadata": {},
     "output_type": "execute_result"
    }
   ],
   "source": [
    "content[3803]"
   ]
  },
  {
   "cell_type": "code",
   "execution_count": 46,
   "metadata": {
    "collapsed": false
   },
   "outputs": [
    {
     "data": {
      "text/plain": [
       "'/hdd2/datasets/ASL/frames/4-19-14VEDA-BeltaniaSiteVisit-0yTvlOulFuc/19_4980_5190/184.png /hdd2/datasets/ASL/frames/4-19-14VEDA-BeltaniaSiteVisit-0yTvlOulFuc/19_4980_5190/vector.out\\n'"
      ]
     },
     "execution_count": 46,
     "metadata": {},
     "output_type": "execute_result"
    }
   ],
   "source": [
    "content[4903]"
   ]
  },
  {
   "cell_type": "code",
   "execution_count": 47,
   "metadata": {
    "collapsed": false
   },
   "outputs": [
    {
     "data": {
      "text/plain": [
       "'/hdd2/datasets/ASL/frames/4-19-14VEDA-BeltaniaSiteVisit-0yTvlOulFuc/19_8520_8640/62.png /hdd2/datasets/ASL/frames/4-19-14VEDA-BeltaniaSiteVisit-0yTvlOulFuc/19_8520_8640/vector.out\\n'"
      ]
     },
     "execution_count": 47,
     "metadata": {},
     "output_type": "execute_result"
    }
   ],
   "source": [
    "content[8000]"
   ]
  },
  {
   "cell_type": "code",
   "execution_count": 48,
   "metadata": {
    "collapsed": false
   },
   "outputs": [
    {
     "data": {
      "text/plain": [
       "'/hdd2/datasets/ASL/frames/ASLChristians-WhydoChristiansgotoChurch-notV_U6XVc0/WhydoChristiansgotoChurch_10170_10260/42.png /hdd2/datasets/ASL/frames/ASLChristians-WhydoChristiansgotoChurch-notV_U6XVc0/WhydoChristiansgotoChurch_10170_10260/vector.out\\n'"
      ]
     },
     "execution_count": 48,
     "metadata": {},
     "output_type": "execute_result"
    }
   ],
   "source": [
    "content[9500]"
   ]
  },
  {
   "cell_type": "code",
   "execution_count": null,
   "metadata": {
    "collapsed": true
   },
   "outputs": [],
   "source": []
  }
 ],
 "metadata": {
  "kernelspec": {
   "display_name": "Python 2",
   "language": "python",
   "name": "python2"
  },
  "language_info": {
   "codemirror_mode": {
    "name": "ipython",
    "version": 2
   },
   "file_extension": ".py",
   "mimetype": "text/x-python",
   "name": "python",
   "nbconvert_exporter": "python",
   "pygments_lexer": "ipython2",
   "version": "2.7.6"
  }
 },
 "nbformat": 4,
 "nbformat_minor": 0
}
